{
  "nbformat": 4,
  "nbformat_minor": 0,
  "metadata": {
    "colab": {
      "provenance": []
    },
    "kernelspec": {
      "name": "python3",
      "display_name": "Python 3"
    },
    "language_info": {
      "name": "python"
    }
  },
  "cells": [
    {
      "cell_type": "markdown",
      "source": [
        "###**infant_hfb_ml**\n",
        "\n",
        "This notebook address three goals, each linked to a primary result in Holubecki et al., 2025:  \n",
        "1. Analyze high-frequency broadband activity (HFB: 70-150 Hz) using Python with MNE, reproducing results reported from analysis using MATLAB with FieldTrip. Successfully converted FieldTrip preprocessing pipeline to MNE, ensuring identical parameter matching (multitaper method, frequency bands, and normalization).\n",
        "2. Classify wake vs. sleep states using all available HFB data from a single channel. Using logistic regression with 70/30 train/test split across all subjects, Fz HFB (located over the anterior fontanelle with minimal skull attenuation) successfully discriminated states (ROC-AUC = 0.786). By contrast, P3 HFB (over relatively thick skull) showed chance-level performance (ROC-AUC = 0.500), as expected given equivalent mean HFB values between states. The full sample includes data (20+ samples per state) from 17 subjects with Fz and 14 subjects with P3.\n",
        "3. Classify wake vs. sleep states using limited training data (5 samples per state from 10 subjects). Using 10-fold cross-validation, Fz HFB showed modest discrimination ability with limited data, while P3 performed at chance level, consistent with the ground truth that no signal exists in P3. This demonstrates the feasibility of classification with minimal training data when a true signal is present.\n",
        "\n",
        "Copyright (c) 2025  \n",
        "EL Johnson, PhD"
      ],
      "metadata": {
        "id": "aa8Vsa5-E0TK"
      }
    },
    {
      "cell_type": "markdown",
      "source": [
        "###Import modules:"
      ],
      "metadata": {
        "id": "AMltVgvFbA7s"
      }
    },
    {
      "cell_type": "code",
      "source": [
        "import gdown\n",
        "import zipfile\n",
        "import matplotlib.pyplot as plt\n",
        "\n",
        "!pip install mne  # for custom modules\n",
        "\n",
        "# custom modules\n",
        "from hfb_utils import load_eeg_files, compute_hfb, create_hfb_df\n",
        "from ml_utils import classify_wake_sleep, compare_classifiers, classify_kfold"
      ],
      "metadata": {
        "id": "U-BeM-TBF0Wl"
      },
      "execution_count": null,
      "outputs": []
    },
    {
      "cell_type": "markdown",
      "source": [
        "###Download data from Google Drive:"
      ],
      "metadata": {
        "id": "1URBTCtdbiNI"
      }
    },
    {
      "cell_type": "code",
      "source": [
        "# download\n",
        "fid = '1DX7D6iWITATB8Tn5oLuez4rJj3obWhOA'\n",
        "url = f'https://drive.google.com/uc?id={fid}'\n",
        "gdown.download(url, 'All_Data_clean_z.zip', quiet = False)\n",
        "\n",
        "# unzip\n",
        "with zipfile.ZipFile('All_Data_clean_z.zip', 'r') as zip_ref:\n",
        "  zip_ref.extractall()"
      ],
      "metadata": {
        "id": "LlgkQuzTs7v0"
      },
      "execution_count": null,
      "outputs": []
    },
    {
      "cell_type": "markdown",
      "source": [
        "### Load the data\n",
        "\n",
        "Each MATLAB input file contains two data structures per subject (`awake_eeg` and `sleep_eeg`), which are the output of FieldTrip's `ft_preprocessing`. Each structure contains the following variables of interest:\n",
        "- `label` = channel names\n",
        "- `time` = time vectors for each trial (sec)\n",
        "- `trial` = EEG data (channels x timepoints per epoch)\n",
        "- `fsample` = sampling rate (Hz)\n",
        "\n",
        "The `load_eeg_files()` function converts these FieldTrip structures directly into MNE `Epochs` objects. Each output is a dictionary containing two MNE `Epochs` objects per subject (e.g., `Subj1_awake` and `Subj1_sleep`), preserving all channel info, trial data, and sampling parameters from the original MATLAB structures."
      ],
      "metadata": {
        "id": "Jx6NX-fkyC-T"
      }
    },
    {
      "cell_type": "code",
      "source": [
        "all_data = load_eeg_files()"
      ],
      "metadata": {
        "id": "yxo9iHmXeDgE"
      },
      "execution_count": null,
      "outputs": []
    },
    {
      "cell_type": "code",
      "source": [
        "all_data['Subj1_awake']  # take a look"
      ],
      "metadata": {
        "id": "VXc5VnG9B2WW"
      },
      "execution_count": null,
      "outputs": []
    },
    {
      "cell_type": "markdown",
      "source": [
        "### Goal 1: Reproduce MATLAB-FieldTrip HFB analysis using Python-MNE\n",
        "\n",
        "**Conversion process**: The FieldTrip analysis computed PSD using the multitaper method (`ft_freqanalysis` with `method = 'mtmfft'`, `taper = 'dpss'`). The equivalent MNE function is `mne.time_frequency.psd_array_multitaper`. The challenge was matching FieldTrip's exact frequency bins and parameters to ensure identical results.  \n",
        "\n",
        "**Key parameter matching**:\n",
        "- **Frequency range**: FieldTrip used `cfg.foi = 75:10:145` (8 specific frequencies). MNE computes all frequencies in the range, requiring selection of the closest bins to match FieldTrip's exact frequencies.\n",
        "- **Spectral smoothing**: FieldTrip's `cfg.tapsmofrq = 10/2` specifies half-bandwidth (+/-5 Hz smoothing). This maps to MNE's `bandwidth = 10` parameter.\n",
        "- **Normalization**: Both FieldTrip's `output = 'pow'` and MNE's `normalization = 'full'` return PSD in units of power/Hz.\n",
        "- **Frequency normalization**: Following the FieldTrip pipeline, PSD values were multiplied by their corresponding frequencies, then averaged across frequency bands.  \n",
        "\n",
        "**Verification**: Comparing mean HFB power values from both pipelines confirmed success:\n",
        "- Fz: awake mean = 0.0152, sleep mean = 0.0064 (awake > sleep, as expected)\n",
        "- P3: awake mean = 0.0236, sleep mean = 0.0238 (awake essentially = sleep, as expected)"
      ],
      "metadata": {
        "id": "Qxp11I7pz9o0"
      }
    },
    {
      "cell_type": "code",
      "source": [
        "all_hfb = compute_hfb(all_data)"
      ],
      "metadata": {
        "id": "AVVmks2J87Cl"
      },
      "execution_count": null,
      "outputs": []
    },
    {
      "cell_type": "code",
      "source": [
        "all_hfb['Subj1'].keys()  # take a look"
      ],
      "metadata": {
        "id": "zdygJQGx3wiT"
      },
      "execution_count": null,
      "outputs": []
    },
    {
      "cell_type": "markdown",
      "source": [
        "###Select data for ML analysis:  \n",
        "\n",
        "Each model uses data from a single channel:\n",
        "- Fz, located over the anterior fontanelle. Hierarchical modeling revealed the greatest HFB wake > sleep difference in Fz. ML models with Fz HFB data as the feature should classify wake vs. sleep states.\n",
        "- P3, located over relatively thick skull. Hierarchical modeling indicated a non-significant HFB wake-sleep difference in P3. ML models with P3 HFB data as the feature should not classify wake vs. sleep states.  "
      ],
      "metadata": {
        "id": "-qPqD1gGTJy3"
      }
    },
    {
      "cell_type": "code",
      "source": [
        "df = create_hfb_df(all_hfb)\n",
        "\n",
        "print(f'Created df with {len(df)} total epochs:')\n",
        "print(f'  Awake: {(df.condition == \"awake\").sum()}')\n",
        "print(f'  Sleep: {(df.condition == \"sleep\").sum()}')\n",
        "print(f'  Fz total: {df.fz_hfb.notna().sum()}')\n",
        "print(f'  P3 total: {df.p3_hfb.notna().sum()}')"
      ],
      "metadata": {
        "id": "JSd0vv7aTD7c"
      },
      "execution_count": null,
      "outputs": []
    },
    {
      "cell_type": "markdown",
      "source": [
        "Summarize Fz and P3 data to confirm:"
      ],
      "metadata": {
        "id": "NMKOD9yTDMJP"
      }
    },
    {
      "cell_type": "code",
      "source": [
        "fig, ax = plt.subplots(1, 2, figsize = (8, 3))\n",
        "\n",
        "for idx, channel in enumerate(['fz_hfb', 'p3_hfb']):\n",
        "  df_clean = df[df[channel].notna()].copy()\n",
        "\n",
        "  awake_vals = df_clean[df_clean.condition == 'awake'][channel]\n",
        "  sleep_vals = df_clean[df_clean.condition == 'sleep'][channel]\n",
        "\n",
        "  ax[idx].hist(sleep_vals, bins = 50, alpha = 0.5, label = 'sleep', color = 'dimgray')\n",
        "  ax[idx].hist(awake_vals, bins = 50, alpha = 0.5, label = 'awake', color = 'darkred')\n",
        "  ax[idx].set_xlabel('HFB power')\n",
        "  ax[idx].set_ylabel('Count')\n",
        "  ax[idx].set_title(f'{channel} distribution')\n",
        "  ax[idx].legend()\n",
        "\n",
        "  print(f'{channel}:')\n",
        "  print(f'  Awake mean: {awake_vals.mean():.4f}, SD: {awake_vals.std():.4f}')\n",
        "  print(f'  Sleep mean: {sleep_vals.mean():.4f}, SD: {sleep_vals.std():.4f}')\n",
        "\n",
        "plt.tight_layout()\n",
        "plt.show()"
      ],
      "metadata": {
        "id": "6YTOmFQZB4vb"
      },
      "execution_count": null,
      "outputs": []
    },
    {
      "cell_type": "markdown",
      "source": [
        "### Goal 2: Classify wake vs. sleep states using all available data\n",
        "\n",
        "**Classification approach**: Logistic regression with a 70/30 train/test split classified wake vs. sleep states based on single-channel HFB power. The dataset was stratified to maintain equal class proportions across splits. Balanced class weights addressed the imbalance between awake (1135 epochs) and sleep (2078 epochs) samples, ensuring the model learned to predict both classes rather than defaulting to the majority class.\n",
        "\n",
        "**Why logistic regression**: Four classifiers (logistic regression, SVM with RBF kernel, random forest, and gradient boosting) were compared to determine the optimal approach. Logistic regression was selected because its constraint to finding a simple linear threshold prevents overfitting to noise. Complex models (SVM, random forest, and gradient boosting) showed high performance for both Fz and P3, contradicting the ground truth that P3 contains no discriminative signal. These models overfit to random patterns in the training data. Logistic regression provided valid performance estimates: good for Fz (real signal) and chance-level for P3 (no signal).  \n",
        "\n",
        "**Results**:\n",
        "- **Fz HFB**: ROC-AUC = 0.786, balanced accuracy = 0.661, demonstrating moderate discrimination ability between wake and sleep states\n",
        "- **P3 HFB**: ROC-AUC = 0.500, balanced accuracy = 0.500, demonstrating chance-level performance, as expected given no true signal\n",
        "\n",
        "**Interpretation**: Fz HFB successfully discriminates wake from sleep states, consistent with higher power during wake compared to sleep. P3 HFB shows no discrimination ability, consistent with equivalent power across states. These results validate that skull thickness affects HFB signal quality, with minimal attenuation over the anterior fontanelle (Fz) and substantial attenuation over thick skull (P3).  \n",
        "\n",
        "The random split approach (mixing epochs across all subjects in train and test sets) tests generalization to new samples but not to new subjects. When tested with a subject-based split, performance degraded substantially, indicating that the model learned population-level patterns rather than subject-invariant features. This suggests that for deployment in clinical or research settings, training data including the target subject would be necessary. The moderate ROC-AUC reflects both the overlap in HFB distributions between states and challenge of cross-subject generalization with a single feature."
      ],
      "metadata": {
        "id": "Ro6Dgg1UxRBV"
      }
    },
    {
      "cell_type": "code",
      "source": [
        "# run logistic regression classifier\n",
        "fz_results = classify_wake_sleep(df, channel = 'fz_hfb')\n",
        "p3_results = classify_wake_sleep(df, channel = 'p3_hfb')"
      ],
      "metadata": {
        "id": "BBfxwAGm10ra"
      },
      "execution_count": null,
      "outputs": []
    },
    {
      "cell_type": "code",
      "source": [
        "# compare classifiers\n",
        "fz_comparison = compare_classifiers(df, channel = 'fz_hfb')\n",
        "p3_comparison = compare_classifiers(df, channel = 'p3_hfb')"
      ],
      "metadata": {
        "id": "TQ3n-PQLF23J"
      },
      "execution_count": null,
      "outputs": []
    },
    {
      "cell_type": "markdown",
      "source": [
        "### Goal 3: Classify wake vs. sleep states using limited data\n",
        "\n",
        "**Classification approach**: To test HFB discriminability with minimal data, logistic regression with 10-fold cross-validation classified wake vs. sleep states using only 5 samples per condition from 10 subjects (100 total samples). This approach simulates a realistic scenario where extensive data collection is impractical. Stratified 10-fold CV ensured balanced class representation across folds, with each fold training on 90 samples and testing on 10 samples. The same subjects were used for both Fz and P3 analyses to enable direct comparison.  \n",
        "\n",
        "**Why 10-fold CV**: With only 100 samples, 10-fold CV provides a balance between training set size (90 samples per fold) and evaluation stability (10 folds for averaging). This approach tests the hypothesis from Holubecki et al., 2025 that HFB wake/sleep differences can be detected with high reliability using as few as 5 samples per state from as few as 10 subjects. The 10-fold CV framework assesses classification performance under these minimal data conditions while providing robust performance estimates by averaging across folds.  \n",
        "\n",
        "**Results**:\n",
        "- **Fz HFB**: mean ROC-AUC = 0.656, mean accuracy = 0.59, demonstrating above-chance discrimination with limited training data\n",
        "- **P3 HFB**: mean ROC-AUC = 0.326, mean accuracy = 0.48, demonstrating chance-level performance as expected\n",
        "\n",
        "**Interpretation**: Classification with limited training data remains feasible for Fz but not P3, consistent with the presence of a true discriminative signal in Fz. The performance decrease from Goal 2 (2249 training samples) reflects the challenge of learning from limited data, but the maintained above-chance performance demonstrates practical viability. This suggests that brief data collection sessions (~5 epochs per state, i.e., 25 sec per state) from a modest sample (10 subjects) can support wake/sleep classification using Fz HFB."
      ],
      "metadata": {
        "id": "voDk--wTUtww"
      }
    },
    {
      "cell_type": "code",
      "source": [
        "# run 10-fold CV\n",
        "fz_results_10fold = classify_kfold(df, channel = 'fz_hfb', n_subj = 10, n_per_cond = 5, n_folds = 10)\n",
        "p3_results_10fold = classify_kfold(df, channel = 'p3_hfb', n_subj = 10, n_per_cond = 5, n_folds = 10)"
      ],
      "metadata": {
        "id": "xWTkRukzKOnr"
      },
      "execution_count": null,
      "outputs": []
    },
    {
      "cell_type": "code",
      "source": [],
      "metadata": {
        "id": "17FffaujdMkc"
      },
      "execution_count": null,
      "outputs": []
    }
  ]
}